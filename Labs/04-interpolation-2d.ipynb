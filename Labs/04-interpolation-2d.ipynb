{
 "cells": [
  {
   "cell_type": "markdown",
   "metadata": {
    "colab_type": "text",
    "id": "view-in-github"
   },
   "source": [
    "<a href=\"https://colab.research.google.com/github/luca-heltai/numerical-analysis-2020-2021/blob/master/notebooks/04-interpolation-2d.ipynb\" target=\"_parent\"><img src=\"https://colab.research.google.com/assets/colab-badge.svg\" alt=\"Open In Colab\"/></a>"
   ]
  },
  {
   "cell_type": "code",
   "execution_count": 74,
   "metadata": {
    "id": "4S77ZNnvbtnS"
   },
   "outputs": [],
   "source": [
    "import numpy as np"
   ]
  },
  {
   "cell_type": "code",
   "execution_count": 75,
   "metadata": {
    "id": "5LQAVU_SdeVq"
   },
   "outputs": [],
   "source": [
    "a = np.array([1, 3, 5, 9])"
   ]
  },
  {
   "cell_type": "code",
   "execution_count": 76,
   "metadata": {
    "colab": {
     "base_uri": "https://localhost:8080/"
    },
    "id": "bmek5xvIdj_w",
    "outputId": "3204dd20-da4c-4415-9c8c-b1f7911765bf"
   },
   "outputs": [
    {
     "data": {
      "text/plain": [
       "3"
      ]
     },
     "execution_count": 76,
     "metadata": {},
     "output_type": "execute_result"
    }
   ],
   "source": [
    "a[1]"
   ]
  },
  {
   "cell_type": "code",
   "execution_count": 77,
   "metadata": {
    "colab": {
     "base_uri": "https://localhost:8080/"
    },
    "id": "mFy7fR_sdmg7",
    "outputId": "fa158c29-aaa4-411f-c7a1-fc790662081c"
   },
   "outputs": [
    {
     "data": {
      "text/plain": [
       "1"
      ]
     },
     "execution_count": 77,
     "metadata": {},
     "output_type": "execute_result"
    }
   ],
   "source": [
    "a[0]"
   ]
  },
  {
   "cell_type": "code",
   "execution_count": 78,
   "metadata": {
    "colab": {
     "base_uri": "https://localhost:8080/"
    },
    "id": "nsgu1R0qdnug",
    "outputId": "0732355b-24ec-4505-d673-9bc1053dfabe"
   },
   "outputs": [
    {
     "data": {
      "text/plain": [
       "9"
      ]
     },
     "execution_count": 78,
     "metadata": {},
     "output_type": "execute_result"
    }
   ],
   "source": [
    "a[-1]"
   ]
  },
  {
   "cell_type": "code",
   "execution_count": 79,
   "metadata": {
    "colab": {
     "base_uri": "https://localhost:8080/"
    },
    "id": "HzlVmB0LdpH_",
    "outputId": "24b78a1f-e398-4ae0-fc9c-9430f9570cbd"
   },
   "outputs": [
    {
     "data": {
      "text/plain": [
       "array([3, 5])"
      ]
     },
     "execution_count": 79,
     "metadata": {},
     "output_type": "execute_result"
    }
   ],
   "source": [
    "a[1:3]"
   ]
  },
  {
   "cell_type": "code",
   "execution_count": 80,
   "metadata": {
    "id": "a9owGY77d6Nu"
   },
   "outputs": [],
   "source": [
    "a[1:3] = 0"
   ]
  },
  {
   "cell_type": "code",
   "execution_count": 81,
   "metadata": {
    "colab": {
     "base_uri": "https://localhost:8080/"
    },
    "id": "ygLSpFeXeHM0",
    "outputId": "25cb9f12-a8d8-4c38-c3c2-9d4e7e66c34f"
   },
   "outputs": [
    {
     "data": {
      "text/plain": [
       "array([1, 0, 0, 9])"
      ]
     },
     "execution_count": 81,
     "metadata": {},
     "output_type": "execute_result"
    }
   ],
   "source": [
    "a"
   ]
  },
  {
   "cell_type": "code",
   "execution_count": 82,
   "metadata": {
    "id": "n1zVfDn2eK1C"
   },
   "outputs": [],
   "source": [
    "b = np.random.random((10, 10))"
   ]
  },
  {
   "cell_type": "code",
   "execution_count": 83,
   "metadata": {
    "colab": {
     "base_uri": "https://localhost:8080/"
    },
    "id": "zaALl84QeSe7",
    "outputId": "47588b24-f419-4d31-fca5-450823f5c35e"
   },
   "outputs": [
    {
     "data": {
      "text/plain": [
       "array([[0.63522587, 0.10990722, 0.66309721, 0.50383592, 0.42843451,\n",
       "        0.43697562, 0.92060511, 0.74902377, 0.00642542, 0.63571036],\n",
       "       [0.64631356, 0.70143298, 0.03225362, 0.67110993, 0.84641706,\n",
       "        0.25797054, 0.18392063, 0.69440041, 0.9301531 , 0.63698073],\n",
       "       [0.91167973, 0.00424032, 0.51230252, 0.16249485, 0.68364157,\n",
       "        0.49219386, 0.94274389, 0.473314  , 0.83439182, 0.24342433],\n",
       "       [0.08787067, 0.49141126, 0.97444106, 0.88944338, 0.99339422,\n",
       "        0.51636709, 0.50454516, 0.20831582, 0.81739378, 0.92970008],\n",
       "       [0.23484486, 0.98053508, 0.49113967, 0.95020473, 0.07661463,\n",
       "        0.22209039, 0.1181317 , 0.85959751, 0.74352664, 0.44297223],\n",
       "       [0.75272884, 0.9556404 , 0.65518841, 0.93856748, 0.63411667,\n",
       "        0.88854469, 0.95642152, 0.46308369, 0.12750997, 0.90327538],\n",
       "       [0.43843858, 0.51595348, 0.90707301, 0.22936078, 0.31098765,\n",
       "        0.03081681, 0.13194215, 0.27213226, 0.96445429, 0.69405592],\n",
       "       [0.12072169, 0.65749428, 0.81916201, 0.96242643, 0.41165854,\n",
       "        0.80619295, 0.66162062, 0.06110485, 0.34235144, 0.19565505],\n",
       "       [0.25039358, 0.42261574, 0.4160478 , 0.95102694, 0.24626044,\n",
       "        0.88646146, 0.10157593, 0.16585761, 0.10539072, 0.81157215],\n",
       "       [0.46957774, 0.22523262, 0.26591281, 0.9122826 , 0.39633883,\n",
       "        0.97349858, 0.76407845, 0.33250128, 0.71222513, 0.6552726 ]])"
      ]
     },
     "execution_count": 83,
     "metadata": {},
     "output_type": "execute_result"
    }
   ],
   "source": [
    "b"
   ]
  },
  {
   "cell_type": "code",
   "execution_count": 84,
   "metadata": {
    "colab": {
     "base_uri": "https://localhost:8080/"
    },
    "id": "guforkAHeTBR",
    "outputId": "bf99ea6c-53eb-4b53-a103-96c8aa08d37f"
   },
   "outputs": [
    {
     "data": {
      "text/plain": [
       "0.16249484972464978"
      ]
     },
     "execution_count": 84,
     "metadata": {},
     "output_type": "execute_result"
    }
   ],
   "source": [
    "b[2, 3]"
   ]
  },
  {
   "cell_type": "code",
   "execution_count": 85,
   "metadata": {
    "colab": {
     "base_uri": "https://localhost:8080/"
    },
    "id": "ehVgu0kBeYN8",
    "outputId": "ba73dfcc-bcf2-4ac4-e08d-089a2bbc9a2a"
   },
   "outputs": [
    {
     "data": {
      "text/plain": [
       "array([0.03225362, 0.67110993, 0.84641706])"
      ]
     },
     "execution_count": 85,
     "metadata": {},
     "output_type": "execute_result"
    }
   ],
   "source": [
    "b[1, 2:5]"
   ]
  },
  {
   "cell_type": "code",
   "execution_count": 86,
   "metadata": {
    "colab": {
     "base_uri": "https://localhost:8080/"
    },
    "id": "IW1MPEoHebVn",
    "outputId": "61592875-aeec-4a1b-b59a-23212a812e66"
   },
   "outputs": [
    {
     "data": {
      "text/plain": [
       "array([[0.16249485, 0.68364157, 0.49219386],\n",
       "       [0.88944338, 0.99339422, 0.51636709],\n",
       "       [0.95020473, 0.07661463, 0.22209039]])"
      ]
     },
     "execution_count": 86,
     "metadata": {},
     "output_type": "execute_result"
    }
   ],
   "source": [
    "b[2:5, 3:6]"
   ]
  },
  {
   "cell_type": "code",
   "execution_count": 87,
   "metadata": {
    "colab": {
     "base_uri": "https://localhost:8080/"
    },
    "id": "uSXc9h0BejU3",
    "outputId": "11e071b3-7bc6-42d9-c4ba-de45c919f1e7"
   },
   "outputs": [
    {
     "data": {
      "text/plain": [
       "array([[0.50383592, 0.42843451, 0.43697562],\n",
       "       [0.67110993, 0.84641706, 0.25797054],\n",
       "       [0.16249485, 0.68364157, 0.49219386],\n",
       "       [0.88944338, 0.99339422, 0.51636709],\n",
       "       [0.95020473, 0.07661463, 0.22209039],\n",
       "       [0.93856748, 0.63411667, 0.88854469],\n",
       "       [0.22936078, 0.31098765, 0.03081681],\n",
       "       [0.96242643, 0.41165854, 0.80619295],\n",
       "       [0.95102694, 0.24626044, 0.88646146],\n",
       "       [0.9122826 , 0.39633883, 0.97349858]])"
      ]
     },
     "execution_count": 87,
     "metadata": {},
     "output_type": "execute_result"
    }
   ],
   "source": [
    "b[0:10, 3:6]"
   ]
  },
  {
   "cell_type": "code",
   "execution_count": 88,
   "metadata": {
    "colab": {
     "base_uri": "https://localhost:8080/"
    },
    "id": "Qatc-yY7es-q",
    "outputId": "40e72a99-3b30-4c68-ba92-07d5c1bb6acd"
   },
   "outputs": [
    {
     "data": {
      "text/plain": [
       "array([[0.50383592, 0.42843451, 0.43697562],\n",
       "       [0.67110993, 0.84641706, 0.25797054],\n",
       "       [0.16249485, 0.68364157, 0.49219386],\n",
       "       [0.88944338, 0.99339422, 0.51636709],\n",
       "       [0.95020473, 0.07661463, 0.22209039],\n",
       "       [0.93856748, 0.63411667, 0.88854469],\n",
       "       [0.22936078, 0.31098765, 0.03081681],\n",
       "       [0.96242643, 0.41165854, 0.80619295],\n",
       "       [0.95102694, 0.24626044, 0.88646146],\n",
       "       [0.9122826 , 0.39633883, 0.97349858]])"
      ]
     },
     "execution_count": 88,
     "metadata": {},
     "output_type": "execute_result"
    }
   ],
   "source": [
    "b[:, 3:6]"
   ]
  },
  {
   "cell_type": "code",
   "execution_count": 89,
   "metadata": {
    "colab": {
     "base_uri": "https://localhost:8080/"
    },
    "id": "5aEx05_xey7A",
    "outputId": "c999ae35-6136-482e-9b05-97358cb532f0"
   },
   "outputs": [
    {
     "data": {
      "text/plain": [
       "array([[0.50383592, 0.42843451, 0.43697562],\n",
       "       [0.67110993, 0.84641706, 0.25797054],\n",
       "       [0.16249485, 0.68364157, 0.49219386],\n",
       "       [0.88944338, 0.99339422, 0.51636709],\n",
       "       [0.95020473, 0.07661463, 0.22209039],\n",
       "       [0.93856748, 0.63411667, 0.88854469],\n",
       "       [0.22936078, 0.31098765, 0.03081681],\n",
       "       [0.96242643, 0.41165854, 0.80619295],\n",
       "       [0.95102694, 0.24626044, 0.88646146],\n",
       "       [0.9122826 , 0.39633883, 0.97349858]])"
      ]
     },
     "execution_count": 89,
     "metadata": {},
     "output_type": "execute_result"
    }
   ],
   "source": [
    "b[0:10, 3:6]\n",
    "# b[0:, 3:6]\n",
    "# b[:10, 3:6]\n",
    "# b[:, 3:6]"
   ]
  },
  {
   "cell_type": "code",
   "execution_count": 90,
   "metadata": {
    "colab": {
     "base_uri": "https://localhost:8080/"
    },
    "id": "k8Lhmbl9fEVQ",
    "outputId": "db8457fd-dd7b-4d26-983f-de6ab436a93c"
   },
   "outputs": [
    {
     "data": {
      "text/plain": [
       "array([[0.63522587, 0.10990722, 0.66309721, 0.50383592, 0.42843451,\n",
       "        0.43697562, 0.92060511, 0.74902377, 0.00642542, 0.63571036],\n",
       "       [0.64631356, 0.70143298, 0.03225362, 0.67110993, 0.84641706,\n",
       "        0.25797054, 0.18392063, 0.69440041, 0.9301531 , 0.63698073],\n",
       "       [0.91167973, 0.00424032, 0.51230252, 0.16249485, 0.68364157,\n",
       "        0.49219386, 0.94274389, 0.473314  , 0.83439182, 0.24342433],\n",
       "       [0.08787067, 0.49141126, 0.97444106, 0.88944338, 0.99339422,\n",
       "        0.51636709, 0.50454516, 0.20831582, 0.81739378, 0.92970008],\n",
       "       [0.23484486, 0.98053508, 0.49113967, 0.95020473, 0.07661463,\n",
       "        0.22209039, 0.1181317 , 0.85959751, 0.74352664, 0.44297223],\n",
       "       [0.75272884, 0.9556404 , 0.65518841, 0.93856748, 0.63411667,\n",
       "        0.88854469, 0.95642152, 0.46308369, 0.12750997, 0.90327538],\n",
       "       [0.43843858, 0.51595348, 0.90707301, 0.22936078, 0.31098765,\n",
       "        0.03081681, 0.13194215, 0.27213226, 0.96445429, 0.69405592],\n",
       "       [0.12072169, 0.65749428, 0.81916201, 0.96242643, 0.41165854,\n",
       "        0.80619295, 0.66162062, 0.06110485, 0.34235144, 0.19565505],\n",
       "       [0.25039358, 0.42261574, 0.4160478 , 0.95102694, 0.24626044,\n",
       "        0.88646146, 0.10157593, 0.16585761, 0.10539072, 0.81157215],\n",
       "       [0.46957774, 0.22523262, 0.26591281, 0.9122826 , 0.39633883,\n",
       "        0.97349858, 0.76407845, 0.33250128, 0.71222513, 0.6552726 ]])"
      ]
     },
     "execution_count": 90,
     "metadata": {},
     "output_type": "execute_result"
    }
   ],
   "source": [
    "b[:, :]"
   ]
  },
  {
   "cell_type": "code",
   "execution_count": 91,
   "metadata": {
    "colab": {
     "base_uri": "https://localhost:8080/"
    },
    "id": "NmY7IsPGfNhN",
    "outputId": "69fafa1f-ce55-435b-9838-43f0821dd74e"
   },
   "outputs": [
    {
     "data": {
      "text/plain": [
       "array([[0.50383592, 0.42843451, 0.43697562],\n",
       "       [0.16249485, 0.68364157, 0.49219386],\n",
       "       [0.95020473, 0.07661463, 0.22209039],\n",
       "       [0.22936078, 0.31098765, 0.03081681],\n",
       "       [0.95102694, 0.24626044, 0.88646146]])"
      ]
     },
     "execution_count": 91,
     "metadata": {},
     "output_type": "execute_result"
    }
   ],
   "source": [
    "b[0:10:2, 3:6]"
   ]
  },
  {
   "cell_type": "code",
   "execution_count": 92,
   "metadata": {
    "colab": {
     "base_uri": "https://localhost:8080/"
    },
    "id": "DyDhBnzmfR4u",
    "outputId": "94798380-87ca-4e8c-aa62-e29f8e41b380"
   },
   "outputs": [
    {
     "data": {
      "text/plain": [
       "array([[0.50383592, 0.42843451, 0.43697562],\n",
       "       [0.16249485, 0.68364157, 0.49219386],\n",
       "       [0.95020473, 0.07661463, 0.22209039],\n",
       "       [0.22936078, 0.31098765, 0.03081681],\n",
       "       [0.95102694, 0.24626044, 0.88646146]])"
      ]
     },
     "execution_count": 92,
     "metadata": {},
     "output_type": "execute_result"
    }
   ],
   "source": [
    "b[::2, 3:6]"
   ]
  },
  {
   "cell_type": "code",
   "execution_count": 93,
   "metadata": {
    "id": "qYaFl5m7fW8q"
   },
   "outputs": [],
   "source": [
    "b[::2, 3:6] = 0"
   ]
  },
  {
   "cell_type": "code",
   "execution_count": 94,
   "metadata": {
    "id": "mvSGKcAGfZao"
   },
   "outputs": [],
   "source": [
    "c = np.random.random((5, 5))"
   ]
  },
  {
   "cell_type": "code",
   "execution_count": 95,
   "metadata": {
    "colab": {
     "base_uri": "https://localhost:8080/"
    },
    "id": "3PvChlFxfbLV",
    "outputId": "d900c904-8377-400c-d3db-a1907a974ebe"
   },
   "outputs": [
    {
     "data": {
      "text/plain": [
       "array([[0.26689476, 0.97387967, 0.93759506, 0.89186431, 0.35515374],\n",
       "       [0.07462718, 0.30672338, 0.37426146, 0.53421071, 0.55817591],\n",
       "       [0.43507912, 0.18450704, 0.35600424, 0.17129065, 0.94923879],\n",
       "       [0.88517215, 0.81705756, 0.75683837, 0.46614774, 0.11680427],\n",
       "       [0.69058049, 0.66397359, 0.13686264, 0.5221349 , 0.11287926]])"
      ]
     },
     "execution_count": 95,
     "metadata": {},
     "output_type": "execute_result"
    }
   ],
   "source": [
    "c"
   ]
  },
  {
   "cell_type": "code",
   "execution_count": 96,
   "metadata": {
    "id": "_PyCjMvVfhBD"
   },
   "outputs": [],
   "source": [
    "c[::2, 1:3] = 0"
   ]
  },
  {
   "cell_type": "code",
   "execution_count": 97,
   "metadata": {
    "colab": {
     "base_uri": "https://localhost:8080/"
    },
    "id": "8TYZyrWmfkRk",
    "outputId": "25f9ab91-6104-4a78-a5ca-5e55fd00f1c5"
   },
   "outputs": [
    {
     "data": {
      "text/plain": [
       "array([[0.26689476, 0.        , 0.        , 0.89186431, 0.35515374],\n",
       "       [0.07462718, 0.30672338, 0.37426146, 0.53421071, 0.55817591],\n",
       "       [0.43507912, 0.        , 0.        , 0.17129065, 0.94923879],\n",
       "       [0.88517215, 0.81705756, 0.75683837, 0.46614774, 0.11680427],\n",
       "       [0.69058049, 0.        , 0.        , 0.5221349 , 0.11287926]])"
      ]
     },
     "execution_count": 97,
     "metadata": {},
     "output_type": "execute_result"
    }
   ],
   "source": [
    "c"
   ]
  },
  {
   "cell_type": "code",
   "execution_count": 98,
   "metadata": {
    "colab": {
     "base_uri": "https://localhost:8080/"
    },
    "id": "nxDRJl_lfkuJ",
    "outputId": "25db688e-65cf-4fd2-d3ed-d63f4df9d85e"
   },
   "outputs": [
    {
     "data": {
      "text/plain": [
       "array([[-1., -1., -1., -1., -1.],\n",
       "       [-1., -1., -1., -1., -1.],\n",
       "       [-1., -1., -1., -1., -1.],\n",
       "       [-1., -1., -1., -1., -1.],\n",
       "       [-1., -1., -1., -1., -1.]])"
      ]
     },
     "execution_count": 98,
     "metadata": {},
     "output_type": "execute_result"
    }
   ],
   "source": [
    "c[:, :] = -1\n",
    "c"
   ]
  },
  {
   "cell_type": "code",
   "execution_count": 99,
   "metadata": {
    "id": "_6mchaTXfwOc"
   },
   "outputs": [],
   "source": [
    "c = -1"
   ]
  },
  {
   "cell_type": "code",
   "execution_count": 100,
   "metadata": {
    "colab": {
     "base_uri": "https://localhost:8080/"
    },
    "id": "mJHx8XvgfzFx",
    "outputId": "3a9a8ddd-83c0-4598-9f65-ea67529154f9"
   },
   "outputs": [
    {
     "data": {
      "text/plain": [
       "-1"
      ]
     },
     "execution_count": 100,
     "metadata": {},
     "output_type": "execute_result"
    }
   ],
   "source": [
    "c"
   ]
  },
  {
   "cell_type": "code",
   "execution_count": 101,
   "metadata": {
    "colab": {
     "base_uri": "https://localhost:8080/"
    },
    "id": "povJBF6Ofzfy",
    "outputId": "bdd0aa10-32d8-441a-a76a-5149cffc4af8"
   },
   "outputs": [
    {
     "data": {
      "text/plain": [
       "array([0, 1, 2, 3, 4, 5, 6, 7, 8, 9])"
      ]
     },
     "execution_count": 101,
     "metadata": {},
     "output_type": "execute_result"
    }
   ],
   "source": [
    "v1 = np.arange(10)\n",
    "v1"
   ]
  },
  {
   "cell_type": "code",
   "execution_count": 102,
   "metadata": {
    "colab": {
     "base_uri": "https://localhost:8080/"
    },
    "id": "R6fcB7NngHG0",
    "outputId": "707fbf6b-032e-45f1-cabe-e037259489e4"
   },
   "outputs": [
    {
     "data": {
      "text/plain": [
       "array([1, 4, 5, 2, 5, 9, 9, 3, 2, 1])"
      ]
     },
     "execution_count": 102,
     "metadata": {},
     "output_type": "execute_result"
    }
   ],
   "source": [
    "v2 = np.array([1, 4, 5, 2, 5, 9, 9, 3, 2, 1])\n",
    "v2"
   ]
  },
  {
   "cell_type": "code",
   "execution_count": 103,
   "metadata": {
    "id": "7p-e3rINgN0L"
   },
   "outputs": [],
   "source": [
    "v3 = np.empty((10,), dtype=np.int32)\n",
    "for i in range(10):\n",
    "  v3[i] = v1[i] + v2[i]"
   ]
  },
  {
   "cell_type": "code",
   "execution_count": 104,
   "metadata": {
    "colab": {
     "base_uri": "https://localhost:8080/"
    },
    "id": "duiDjuMSgard",
    "outputId": "0e0c636e-62cd-43cf-9ec2-d7f4a4b70596"
   },
   "outputs": [
    {
     "data": {
      "text/plain": [
       "array([ 1,  5,  7,  5,  9, 14, 15, 10, 10, 10], dtype=int32)"
      ]
     },
     "execution_count": 104,
     "metadata": {},
     "output_type": "execute_result"
    }
   ],
   "source": [
    "v3"
   ]
  },
  {
   "cell_type": "code",
   "execution_count": 105,
   "metadata": {
    "id": "izbUFcxTgbeU"
   },
   "outputs": [],
   "source": [
    "v4 = v1 + v2"
   ]
  },
  {
   "cell_type": "code",
   "execution_count": 106,
   "metadata": {
    "colab": {
     "base_uri": "https://localhost:8080/"
    },
    "id": "RrVl3W_sghwv",
    "outputId": "66492267-476e-4173-c128-648ef574f026"
   },
   "outputs": [
    {
     "data": {
      "text/plain": [
       "array([ 1,  5,  7,  5,  9, 14, 15, 10, 10, 10])"
      ]
     },
     "execution_count": 106,
     "metadata": {},
     "output_type": "execute_result"
    }
   ],
   "source": [
    "v4"
   ]
  },
  {
   "cell_type": "code",
   "execution_count": 107,
   "metadata": {
    "colab": {
     "base_uri": "https://localhost:8080/"
    },
    "id": "wO_39pxDgicN",
    "outputId": "319f0c73-29a5-4218-b8cc-6fdfd5418fc9"
   },
   "outputs": [
    {
     "data": {
      "text/plain": [
       "array([ 0.54030231,  0.28366219,  0.75390225,  0.28366219, -0.91113026,\n",
       "        0.13673722, -0.75968791, -0.83907153, -0.83907153, -0.83907153])"
      ]
     },
     "execution_count": 107,
     "metadata": {},
     "output_type": "execute_result"
    }
   ],
   "source": [
    "np.cos(v4)"
   ]
  },
  {
   "cell_type": "code",
   "execution_count": 108,
   "metadata": {
    "colab": {
     "base_uri": "https://localhost:8080/"
    },
    "id": "1aDDupQPg-c2",
    "outputId": "a8a0161f-f4a7-4a1d-f511-95029b8fdda4"
   },
   "outputs": [
    {
     "data": {
      "text/plain": [
       "array([ 0,  5, 14, 15, 36, 70, 90, 70, 80, 90])"
      ]
     },
     "execution_count": 108,
     "metadata": {},
     "output_type": "execute_result"
    }
   ],
   "source": [
    "v4 * v1"
   ]
  },
  {
   "cell_type": "code",
   "execution_count": 109,
   "metadata": {
    "id": "mwcS9mFqhCio"
   },
   "outputs": [],
   "source": [
    "import math"
   ]
  },
  {
   "cell_type": "code",
   "execution_count": 110,
   "metadata": {
    "colab": {
     "base_uri": "https://localhost:8080/"
    },
    "id": "odgADxH3hHHZ",
    "outputId": "6ba66e0c-4032-4ffd-a3f9-7b4a94ffb976"
   },
   "outputs": [
    {
     "data": {
      "text/plain": [
       "-1.0"
      ]
     },
     "execution_count": 110,
     "metadata": {},
     "output_type": "execute_result"
    }
   ],
   "source": [
    "math.cos(math.pi)"
   ]
  },
  {
   "cell_type": "code",
   "execution_count": 111,
   "metadata": {
    "colab": {
     "base_uri": "https://localhost:8080/"
    },
    "id": "xPcieG1rhJg_",
    "outputId": "861147ff-7984-4673-b314-9a321840cd73"
   },
   "outputs": [
    {
     "data": {
      "text/plain": [
       "-1.0"
      ]
     },
     "execution_count": 111,
     "metadata": {},
     "output_type": "execute_result"
    }
   ],
   "source": [
    "np.cos(math.pi)"
   ]
  },
  {
   "cell_type": "code",
   "execution_count": 112,
   "metadata": {
    "colab": {
     "base_uri": "https://localhost:8080/",
     "height": 173
    },
    "id": "Oj-I2pzVhL4M",
    "outputId": "06b568ee-f45e-4011-a730-abfc6e439919"
   },
   "outputs": [
    {
     "ename": "TypeError",
     "evalue": "only size-1 arrays can be converted to Python scalars",
     "output_type": "error",
     "traceback": [
      "\u001b[0;31m---------------------------------------------------------------------------\u001b[0m",
      "\u001b[0;31mTypeError\u001b[0m                                 Traceback (most recent call last)",
      "\u001b[0;32m/tmp/ipykernel_11212/1394955682.py\u001b[0m in \u001b[0;36m<module>\u001b[0;34m\u001b[0m\n\u001b[0;32m----> 1\u001b[0;31m \u001b[0mmath\u001b[0m\u001b[0;34m.\u001b[0m\u001b[0mcos\u001b[0m\u001b[0;34m(\u001b[0m\u001b[0mv4\u001b[0m\u001b[0;34m)\u001b[0m\u001b[0;34m\u001b[0m\u001b[0;34m\u001b[0m\u001b[0m\n\u001b[0m",
      "\u001b[0;31mTypeError\u001b[0m: only size-1 arrays can be converted to Python scalars"
     ]
    }
   ],
   "source": [
    "math.cos(v4)"
   ]
  },
  {
   "cell_type": "code",
   "execution_count": 113,
   "metadata": {
    "id": "xSM806_IhVJo"
   },
   "outputs": [],
   "source": [
    "def f(x, y):\n",
    "  return np.sin(x) * np.cos(y)"
   ]
  },
  {
   "cell_type": "code",
   "execution_count": 114,
   "metadata": {
    "colab": {
     "base_uri": "https://localhost:8080/"
    },
    "id": "PVBypGflhhfp",
    "outputId": "d477f3c2-b3ce-4204-df6a-297a69af4e80"
   },
   "outputs": [
    {
     "data": {
      "text/plain": [
       "0.04003040989885004"
      ]
     },
     "execution_count": 114,
     "metadata": {},
     "output_type": "execute_result"
    }
   ],
   "source": [
    "f(3, 5)"
   ]
  },
  {
   "cell_type": "code",
   "execution_count": 115,
   "metadata": {
    "colab": {
     "base_uri": "https://localhost:8080/"
    },
    "id": "eVidbMGship3",
    "outputId": "61399fe8-87cd-4f60-9746-f8fb0c10a145"
   },
   "outputs": [
    {
     "data": {
      "text/plain": [
       "array([ 0.        , -0.55002214,  0.2579333 , -0.05872664, -0.21467625,\n",
       "        0.87370493,  0.25458392, -0.6504118 , -0.4117183 ,  0.22266857])"
      ]
     },
     "execution_count": 115,
     "metadata": {},
     "output_type": "execute_result"
    }
   ],
   "source": [
    "f(v1, v2)"
   ]
  },
  {
   "cell_type": "code",
   "execution_count": 116,
   "metadata": {
    "id": "8qZg-0NGhk7e"
   },
   "outputs": [],
   "source": [
    "def f(x, y):\n",
    "  return np.meshgrid(x, y)"
   ]
  },
  {
   "cell_type": "code",
   "execution_count": 117,
   "metadata": {
    "colab": {
     "base_uri": "https://localhost:8080/"
    },
    "id": "Lfd-WDM-iAMQ",
    "outputId": "61be7b75-01b8-4544-bf4e-97d1c35f5344"
   },
   "outputs": [
    {
     "data": {
      "text/plain": [
       "[array([[0, 1, 2, 3, 4, 5, 6, 7, 8, 9],\n",
       "        [0, 1, 2, 3, 4, 5, 6, 7, 8, 9],\n",
       "        [0, 1, 2, 3, 4, 5, 6, 7, 8, 9],\n",
       "        [0, 1, 2, 3, 4, 5, 6, 7, 8, 9],\n",
       "        [0, 1, 2, 3, 4, 5, 6, 7, 8, 9],\n",
       "        [0, 1, 2, 3, 4, 5, 6, 7, 8, 9],\n",
       "        [0, 1, 2, 3, 4, 5, 6, 7, 8, 9],\n",
       "        [0, 1, 2, 3, 4, 5, 6, 7, 8, 9],\n",
       "        [0, 1, 2, 3, 4, 5, 6, 7, 8, 9],\n",
       "        [0, 1, 2, 3, 4, 5, 6, 7, 8, 9]]),\n",
       " array([[1, 1, 1, 1, 1, 1, 1, 1, 1, 1],\n",
       "        [4, 4, 4, 4, 4, 4, 4, 4, 4, 4],\n",
       "        [5, 5, 5, 5, 5, 5, 5, 5, 5, 5],\n",
       "        [2, 2, 2, 2, 2, 2, 2, 2, 2, 2],\n",
       "        [5, 5, 5, 5, 5, 5, 5, 5, 5, 5],\n",
       "        [9, 9, 9, 9, 9, 9, 9, 9, 9, 9],\n",
       "        [9, 9, 9, 9, 9, 9, 9, 9, 9, 9],\n",
       "        [3, 3, 3, 3, 3, 3, 3, 3, 3, 3],\n",
       "        [2, 2, 2, 2, 2, 2, 2, 2, 2, 2],\n",
       "        [1, 1, 1, 1, 1, 1, 1, 1, 1, 1]])]"
      ]
     },
     "execution_count": 117,
     "metadata": {},
     "output_type": "execute_result"
    }
   ],
   "source": [
    "f(v1, v2)"
   ]
  },
  {
   "cell_type": "code",
   "execution_count": 118,
   "metadata": {
    "colab": {
     "base_uri": "https://localhost:8080/"
    },
    "id": "zf-bPEMeiCKh",
    "outputId": "31b5a0a0-e936-40b3-869e-5eb369be0f28"
   },
   "outputs": [
    {
     "data": {
      "text/plain": [
       "[array([[1, 2, 3],\n",
       "        [1, 2, 3],\n",
       "        [1, 2, 3]]),\n",
       " array([[10, 10, 10],\n",
       "        [20, 20, 20],\n",
       "        [30, 30, 30]])]"
      ]
     },
     "execution_count": 118,
     "metadata": {},
     "output_type": "execute_result"
    }
   ],
   "source": [
    "a = np.array([1, 2, 3])\n",
    "b = np.array([10, 20, 30])\n",
    "\n",
    "f(a, b)"
   ]
  },
  {
   "cell_type": "code",
   "execution_count": 119,
   "metadata": {
    "id": "K1LJ-a_oiLHg"
   },
   "outputs": [],
   "source": [
    "def f(a, b):\n",
    "  output = np.empty((a.shape[0], 2), dtype=a.dtype)\n",
    "  output[:, 0] = a\n",
    "  output[:, 1] = b\n",
    "  return output"
   ]
  },
  {
   "cell_type": "code",
   "execution_count": 120,
   "metadata": {
    "colab": {
     "base_uri": "https://localhost:8080/"
    },
    "id": "AtC3kqR0isAQ",
    "outputId": "ee1f14e4-50d7-4009-d7e0-410e7dccf301"
   },
   "outputs": [
    {
     "data": {
      "text/plain": [
       "array([[ 1,  2,  3],\n",
       "       [10, 20, 30]])"
      ]
     },
     "execution_count": 120,
     "metadata": {},
     "output_type": "execute_result"
    }
   ],
   "source": [
    "f(a, b).T"
   ]
  },
  {
   "cell_type": "code",
   "execution_count": 121,
   "metadata": {
    "colab": {
     "base_uri": "https://localhost:8080/"
    },
    "id": "im06Xy8fite0",
    "outputId": "5c8c7535-b8e1-4dbe-e5ff-b293a9e00a67"
   },
   "outputs": [
    {
     "data": {
      "text/plain": [
       "array([[ 1,  2,  3],\n",
       "       [10, 20, 30]])"
      ]
     },
     "execution_count": 121,
     "metadata": {},
     "output_type": "execute_result"
    }
   ],
   "source": [
    "np.array([a, b])"
   ]
  },
  {
   "cell_type": "code",
   "execution_count": 122,
   "metadata": {
    "colab": {
     "base_uri": "https://localhost:8080/"
    },
    "id": "-YlTdy5Oi37C",
    "outputId": "6ca4ec37-fbf2-4554-9dfd-4e6c1ba9d6f0"
   },
   "outputs": [
    {
     "data": {
      "text/plain": [
       "array([[ 1, 10],\n",
       "       [ 2, 20],\n",
       "       [ 3, 30]])"
      ]
     },
     "execution_count": 122,
     "metadata": {},
     "output_type": "execute_result"
    }
   ],
   "source": [
    "f(a,b)"
   ]
  },
  {
   "cell_type": "code",
   "execution_count": 123,
   "metadata": {
    "colab": {
     "base_uri": "https://localhost:8080/"
    },
    "id": "h5xaThEHjDT1",
    "outputId": "315183cd-1f59-43c4-c925-fd8ac33d9c47"
   },
   "outputs": [
    {
     "data": {
      "text/plain": [
       "array([[0.26223488, 0.91947498, 0.07456226, 0.53601624, 0.65931453,\n",
       "        0.42370334, 0.58727642, 0.95807969, 0.11651391, 0.61536849],\n",
       "       [0.89229724, 0.16238408, 0.31494493, 0.18379359, 0.92851523,\n",
       "        0.07711735, 0.97316515, 0.90965715, 0.61551154, 0.8919728 ]])"
      ]
     },
     "execution_count": 123,
     "metadata": {},
     "output_type": "execute_result"
    }
   ],
   "source": [
    "v = np.random.random((2, 10))\n",
    "v"
   ]
  },
  {
   "cell_type": "code",
   "execution_count": 124,
   "metadata": {
    "colab": {
     "base_uri": "https://localhost:8080/"
    },
    "id": "glhs0LsKjU_U",
    "outputId": "bfaf69c0-56c4-4b29-adcd-1bd3f70da212"
   },
   "outputs": [
    {
     "data": {
      "text/plain": [
       "array([0.53601624, 0.18379359])"
      ]
     },
     "execution_count": 124,
     "metadata": {},
     "output_type": "execute_result"
    }
   ],
   "source": [
    "v[:, 3]"
   ]
  },
  {
   "cell_type": "code",
   "execution_count": 125,
   "metadata": {
    "colab": {
     "base_uri": "https://localhost:8080/"
    },
    "id": "9givYGaBjY0h",
    "outputId": "2d275dff-ccef-441b-cb1a-a64f6328c5a7"
   },
   "outputs": [
    {
     "data": {
      "text/plain": [
       "array([0.42370334, 0.07711735])"
      ]
     },
     "execution_count": 125,
     "metadata": {},
     "output_type": "execute_result"
    }
   ],
   "source": [
    "v[:, 5]"
   ]
  },
  {
   "cell_type": "code",
   "execution_count": 126,
   "metadata": {
    "id": "OztjeVoajalA"
   },
   "outputs": [],
   "source": [
    "speed = np.sqrt(v[0] ** 2 + v[1] ** 2)"
   ]
  },
  {
   "cell_type": "code",
   "execution_count": 127,
   "metadata": {
    "colab": {
     "base_uri": "https://localhost:8080/"
    },
    "id": "aa_ysr7tjpMi",
    "outputId": "1df5cba3-2200-431c-fe23-138f67f09ab3"
   },
   "outputs": [
    {
     "data": {
      "text/plain": [
       "array([0.93003306, 0.93370382, 0.3236508 , 0.56665112, 1.13878716,\n",
       "       0.43066415, 1.13663715, 1.32113316, 0.6264423 , 1.0836484 ])"
      ]
     },
     "execution_count": 127,
     "metadata": {},
     "output_type": "execute_result"
    }
   ],
   "source": [
    "speed"
   ]
  },
  {
   "cell_type": "code",
   "execution_count": 128,
   "metadata": {
    "id": "z0E1Az3Vjp5e"
   },
   "outputs": [],
   "source": [
    "speed = np.sqrt(v[0, :] ** 2 + v[1, :] ** 2)"
   ]
  },
  {
   "cell_type": "code",
   "execution_count": 129,
   "metadata": {
    "id": "LIS5GC6UjwE0"
   },
   "outputs": [],
   "source": [
    "m = np.random.random((10,))"
   ]
  },
  {
   "cell_type": "code",
   "execution_count": 130,
   "metadata": {
    "colab": {
     "base_uri": "https://localhost:8080/"
    },
    "id": "-SlPuu5mkAGS",
    "outputId": "fedb2955-8fe3-4e39-bc51-0cf4c6308aa2"
   },
   "outputs": [
    {
     "data": {
      "text/plain": [
       "array([0.0283225 , 0.93704072, 0.63118703, 0.87029755, 0.28651209,\n",
       "       0.68693317, 0.29316329, 0.67169527, 0.02540734, 0.28299331])"
      ]
     },
     "execution_count": 130,
     "metadata": {},
     "output_type": "execute_result"
    }
   ],
   "source": [
    "m"
   ]
  },
  {
   "cell_type": "code",
   "execution_count": 131,
   "metadata": {
    "id": "wK-AA0xLkAaj"
   },
   "outputs": [],
   "source": [
    "p = m * v"
   ]
  },
  {
   "cell_type": "code",
   "execution_count": 132,
   "metadata": {
    "colab": {
     "base_uri": "https://localhost:8080/"
    },
    "id": "h5n0wn4YkEH_",
    "outputId": "27becb9e-4b11-4f13-a81e-723490f7597f"
   },
   "outputs": [
    {
     "data": {
      "text/plain": [
       "(2, 10)"
      ]
     },
     "execution_count": 132,
     "metadata": {},
     "output_type": "execute_result"
    }
   ],
   "source": [
    "p.shape"
   ]
  },
  {
   "cell_type": "code",
   "execution_count": 133,
   "metadata": {
    "colab": {
     "base_uri": "https://localhost:8080/"
    },
    "id": "VFEIOT_XkIy1",
    "outputId": "77eb3e0f-a7fe-48ff-e184-3dfcda77f2a7"
   },
   "outputs": [
    {
     "data": {
      "text/plain": [
       "array([0.04706273, 0.19878916])"
      ]
     },
     "execution_count": 133,
     "metadata": {},
     "output_type": "execute_result"
    }
   ],
   "source": [
    "p[:, 2]"
   ]
  },
  {
   "cell_type": "code",
   "execution_count": 134,
   "metadata": {
    "colab": {
     "base_uri": "https://localhost:8080/"
    },
    "id": "8zhoG4_HkKkI",
    "outputId": "31b5f10b-4331-4b9c-fe15-c115216a0829"
   },
   "outputs": [
    {
     "data": {
      "text/plain": [
       "array([ 1,  5,  7,  5,  9, 14, 15, 10, 10, 10])"
      ]
     },
     "execution_count": 134,
     "metadata": {},
     "output_type": "execute_result"
    }
   ],
   "source": [
    "v1 + v2"
   ]
  },
  {
   "cell_type": "code",
   "execution_count": 135,
   "metadata": {
    "colab": {
     "base_uri": "https://localhost:8080/"
    },
    "id": "Z0FNS8b-kSuT",
    "outputId": "c8272cda-e96e-43ef-bd9d-955e1eca6cea"
   },
   "outputs": [
    {
     "data": {
      "text/plain": [
       "(10,)"
      ]
     },
     "execution_count": 135,
     "metadata": {},
     "output_type": "execute_result"
    }
   ],
   "source": [
    "v1.shape"
   ]
  },
  {
   "cell_type": "code",
   "execution_count": 136,
   "metadata": {
    "colab": {
     "base_uri": "https://localhost:8080/"
    },
    "id": "CHX_tX8GkRuz",
    "outputId": "ac97c09b-fa84-4f7d-e7f8-49f312f32acd"
   },
   "outputs": [
    {
     "data": {
      "text/plain": [
       "(10,)"
      ]
     },
     "execution_count": 136,
     "metadata": {},
     "output_type": "execute_result"
    }
   ],
   "source": [
    "v2.shape"
   ]
  },
  {
   "cell_type": "code",
   "execution_count": 137,
   "metadata": {
    "id": "Gx8h9YT8kU_R"
   },
   "outputs": [],
   "source": [
    "v_error = np.random.random((9,))"
   ]
  },
  {
   "cell_type": "code",
   "execution_count": 138,
   "metadata": {
    "colab": {
     "base_uri": "https://localhost:8080/"
    },
    "id": "bPkvHnQXkYpC",
    "outputId": "21a1c74b-426d-4b97-ff9a-8e80a23ec36a"
   },
   "outputs": [
    {
     "data": {
      "text/plain": [
       "array([0.08564673, 0.95506042, 0.08778939, 0.45068031, 0.10717083,\n",
       "       0.43791607, 0.02585825, 0.62176512, 0.08858894])"
      ]
     },
     "execution_count": 138,
     "metadata": {},
     "output_type": "execute_result"
    }
   ],
   "source": [
    "v_error"
   ]
  },
  {
   "cell_type": "code",
   "execution_count": 139,
   "metadata": {
    "colab": {
     "base_uri": "https://localhost:8080/",
     "height": 173
    },
    "id": "_XOhvMtukZWg",
    "outputId": "7ecc93b7-2fcd-419c-e40a-3bc3c6574f3e"
   },
   "outputs": [
    {
     "ename": "ValueError",
     "evalue": "operands could not be broadcast together with shapes (10,) (9,) ",
     "output_type": "error",
     "traceback": [
      "\u001b[0;31m---------------------------------------------------------------------------\u001b[0m",
      "\u001b[0;31mValueError\u001b[0m                                Traceback (most recent call last)",
      "\u001b[0;32m/tmp/ipykernel_11212/394386613.py\u001b[0m in \u001b[0;36m<module>\u001b[0;34m\u001b[0m\n\u001b[0;32m----> 1\u001b[0;31m \u001b[0mv1\u001b[0m \u001b[0;34m+\u001b[0m \u001b[0mv_error\u001b[0m\u001b[0;34m\u001b[0m\u001b[0;34m\u001b[0m\u001b[0m\n\u001b[0m",
      "\u001b[0;31mValueError\u001b[0m: operands could not be broadcast together with shapes (10,) (9,) "
     ]
    }
   ],
   "source": [
    "v1 + v_error"
   ]
  },
  {
   "cell_type": "code",
   "execution_count": 140,
   "metadata": {
    "colab": {
     "base_uri": "https://localhost:8080/"
    },
    "id": "XTOnfa8Ukaia",
    "outputId": "8382ab1f-54a4-42f8-805d-5d9406198016"
   },
   "outputs": [
    {
     "data": {
      "text/plain": [
       "array([[0.00742715, 0.86158549, 0.04706273, 0.46649362, 0.18890159,\n",
       "        0.29105588, 0.17216789, 0.6435376 , 0.00296031, 0.17414517],\n",
       "       [0.02527209, 0.15216049, 0.19878916, 0.15995511, 0.26603084,\n",
       "        0.05297447, 0.2852963 , 0.61101241, 0.01563851, 0.25242234]])"
      ]
     },
     "execution_count": 140,
     "metadata": {},
     "output_type": "execute_result"
    }
   ],
   "source": [
    "v * m"
   ]
  },
  {
   "cell_type": "code",
   "execution_count": 141,
   "metadata": {
    "colab": {
     "base_uri": "https://localhost:8080/"
    },
    "id": "eQ1p1qo6kgmg",
    "outputId": "e367af91-574c-4c9e-fb6b-490af91ec7d2"
   },
   "outputs": [
    {
     "data": {
      "text/plain": [
       "(10,)"
      ]
     },
     "execution_count": 141,
     "metadata": {},
     "output_type": "execute_result"
    }
   ],
   "source": [
    "m.shape"
   ]
  },
  {
   "cell_type": "code",
   "execution_count": 142,
   "metadata": {
    "colab": {
     "base_uri": "https://localhost:8080/"
    },
    "id": "gZ28tVfKkieX",
    "outputId": "7f013414-3a96-48a5-c183-f75a6e690591"
   },
   "outputs": [
    {
     "data": {
      "text/plain": [
       "(2, 10)"
      ]
     },
     "execution_count": 142,
     "metadata": {},
     "output_type": "execute_result"
    }
   ],
   "source": [
    "v.shape"
   ]
  },
  {
   "cell_type": "code",
   "execution_count": 143,
   "metadata": {
    "colab": {
     "base_uri": "https://localhost:8080/"
    },
    "id": "GUuTvR2ykjum",
    "outputId": "08199678-aff4-401c-9835-22e31ac24c57"
   },
   "outputs": [
    {
     "data": {
      "text/plain": [
       "array([0, 1, 2, 3, 4, 5, 6, 7, 8, 9])"
      ]
     },
     "execution_count": 143,
     "metadata": {},
     "output_type": "execute_result"
    }
   ],
   "source": [
    "a1 = np.arange(10)\n",
    "a1"
   ]
  },
  {
   "cell_type": "code",
   "execution_count": 144,
   "metadata": {
    "colab": {
     "base_uri": "https://localhost:8080/"
    },
    "id": "KumhQ0wzkyua",
    "outputId": "c9b82e1e-b888-4047-ad46-8077e7288d19"
   },
   "outputs": [
    {
     "data": {
      "text/plain": [
       "array([[0, 1],\n",
       "       [2, 3],\n",
       "       [4, 5],\n",
       "       [6, 7],\n",
       "       [8, 9]])"
      ]
     },
     "execution_count": 144,
     "metadata": {},
     "output_type": "execute_result"
    }
   ],
   "source": [
    "a1.reshape((5, 2))"
   ]
  },
  {
   "cell_type": "code",
   "execution_count": 145,
   "metadata": {
    "colab": {
     "base_uri": "https://localhost:8080/"
    },
    "id": "2A0PvKZrk4Ok",
    "outputId": "11585adf-83f3-4652-c5a3-7dbc1405a75e"
   },
   "outputs": [
    {
     "data": {
      "text/plain": [
       "array([[0, 1, 2, 3, 4],\n",
       "       [5, 6, 7, 8, 9]])"
      ]
     },
     "execution_count": 145,
     "metadata": {},
     "output_type": "execute_result"
    }
   ],
   "source": [
    "a1.reshape((2, 5))"
   ]
  },
  {
   "cell_type": "code",
   "execution_count": 146,
   "metadata": {
    "colab": {
     "base_uri": "https://localhost:8080/"
    },
    "id": "ZWhlgooak_Xy",
    "outputId": "ee3c9528-46ab-4a0f-b4fc-07470f34cc33"
   },
   "outputs": [
    {
     "data": {
      "text/plain": [
       "(10,)"
      ]
     },
     "execution_count": 146,
     "metadata": {},
     "output_type": "execute_result"
    }
   ],
   "source": [
    "a1.shape"
   ]
  },
  {
   "cell_type": "code",
   "execution_count": 147,
   "metadata": {
    "colab": {
     "base_uri": "https://localhost:8080/",
     "height": 173
    },
    "id": "AoFMFJLflMI-",
    "outputId": "c1cf4e10-96ab-46fe-d85f-e82cebf3b83a"
   },
   "outputs": [
    {
     "ename": "ValueError",
     "evalue": "cannot reshape array of size 10 into shape (3,3)",
     "output_type": "error",
     "traceback": [
      "\u001b[0;31m---------------------------------------------------------------------------\u001b[0m",
      "\u001b[0;31mValueError\u001b[0m                                Traceback (most recent call last)",
      "\u001b[0;32m/tmp/ipykernel_11212/2232912366.py\u001b[0m in \u001b[0;36m<module>\u001b[0;34m\u001b[0m\n\u001b[0;32m----> 1\u001b[0;31m \u001b[0ma1\u001b[0m\u001b[0;34m.\u001b[0m\u001b[0mreshape\u001b[0m\u001b[0;34m(\u001b[0m\u001b[0;34m(\u001b[0m\u001b[0;36m3\u001b[0m\u001b[0;34m,\u001b[0m \u001b[0;36m3\u001b[0m\u001b[0;34m)\u001b[0m\u001b[0;34m)\u001b[0m\u001b[0;34m\u001b[0m\u001b[0;34m\u001b[0m\u001b[0m\n\u001b[0m",
      "\u001b[0;31mValueError\u001b[0m: cannot reshape array of size 10 into shape (3,3)"
     ]
    }
   ],
   "source": [
    "a1.reshape((3, 3))"
   ]
  },
  {
   "cell_type": "code",
   "execution_count": 148,
   "metadata": {
    "colab": {
     "base_uri": "https://localhost:8080/"
    },
    "id": "zb4fQhYxlPj4",
    "outputId": "0de93c34-2c82-499d-a1c3-364ac2816f5d"
   },
   "outputs": [
    {
     "data": {
      "text/plain": [
       "array([[0, 1, 2, 3, 4, 5, 6, 7, 8, 9]])"
      ]
     },
     "execution_count": 148,
     "metadata": {},
     "output_type": "execute_result"
    }
   ],
   "source": [
    "a1.reshape((1, 10))"
   ]
  },
  {
   "cell_type": "code",
   "execution_count": 149,
   "metadata": {
    "colab": {
     "base_uri": "https://localhost:8080/"
    },
    "id": "sExMS7q0lV6a",
    "outputId": "31b86238-1fb0-4f19-cd45-efc5bd91fbb3"
   },
   "outputs": [
    {
     "data": {
      "text/plain": [
       "array([[0],\n",
       "       [1],\n",
       "       [2],\n",
       "       [3],\n",
       "       [4],\n",
       "       [5],\n",
       "       [6],\n",
       "       [7],\n",
       "       [8],\n",
       "       [9]])"
      ]
     },
     "execution_count": 149,
     "metadata": {},
     "output_type": "execute_result"
    }
   ],
   "source": [
    "a1.reshape((10, 1))"
   ]
  },
  {
   "cell_type": "code",
   "execution_count": 150,
   "metadata": {
    "id": "kx1eOX8zlc4t"
   },
   "outputs": [],
   "source": [
    "monster_array = a1.reshape((1, 1, 10 ,1))"
   ]
  },
  {
   "cell_type": "code",
   "execution_count": 151,
   "metadata": {
    "colab": {
     "base_uri": "https://localhost:8080/"
    },
    "id": "WXAixo_7lf7N",
    "outputId": "c7db17c5-7633-4f2d-8192-ed1d6ba3249a"
   },
   "outputs": [
    {
     "data": {
      "text/plain": [
       "7"
      ]
     },
     "execution_count": 151,
     "metadata": {},
     "output_type": "execute_result"
    }
   ],
   "source": [
    "monster_array[0, 0, 7, 0]"
   ]
  },
  {
   "cell_type": "code",
   "execution_count": 152,
   "metadata": {
    "colab": {
     "base_uri": "https://localhost:8080/"
    },
    "id": "VMSar3V2lklI",
    "outputId": "a0978f11-b60f-4b99-c64e-51338e961095"
   },
   "outputs": [
    {
     "data": {
      "text/plain": [
       "array([[[[0],\n",
       "         [1],\n",
       "         [2],\n",
       "         [3],\n",
       "         [4],\n",
       "         [5],\n",
       "         [6],\n",
       "         [7],\n",
       "         [8],\n",
       "         [9]]]])"
      ]
     },
     "execution_count": 152,
     "metadata": {},
     "output_type": "execute_result"
    }
   ],
   "source": [
    "monster_array"
   ]
  },
  {
   "cell_type": "code",
   "execution_count": 153,
   "metadata": {
    "id": "P0T1Ijoillzq"
   },
   "outputs": [],
   "source": [
    "a = np.arange(6).reshape((2, 1, 3))"
   ]
  },
  {
   "cell_type": "code",
   "execution_count": 154,
   "metadata": {
    "colab": {
     "base_uri": "https://localhost:8080/"
    },
    "id": "ghRuYmbEmjuF",
    "outputId": "ea2c9bf7-0c3a-4c34-ffcf-afce18ae1c1a"
   },
   "outputs": [
    {
     "data": {
      "text/plain": [
       "array([[[0, 1, 2]],\n",
       "\n",
       "       [[3, 4, 5]]])"
      ]
     },
     "execution_count": 154,
     "metadata": {},
     "output_type": "execute_result"
    }
   ],
   "source": [
    "a"
   ]
  },
  {
   "cell_type": "code",
   "execution_count": 155,
   "metadata": {
    "colab": {
     "base_uri": "https://localhost:8080/"
    },
    "id": "xP_cBmB7mj-A",
    "outputId": "0fc5eaf6-af02-4304-926d-0a59c8e1d1ed"
   },
   "outputs": [
    {
     "data": {
      "text/plain": [
       "array([[0, 1, 2],\n",
       "       [3, 4, 5],\n",
       "       [6, 7, 8]])"
      ]
     },
     "execution_count": 155,
     "metadata": {},
     "output_type": "execute_result"
    }
   ],
   "source": [
    "b = np.arange(9).reshape(3, 3)\n",
    "b"
   ]
  },
  {
   "cell_type": "code",
   "execution_count": 156,
   "metadata": {
    "id": "1KsIn_QimtA4"
   },
   "outputs": [],
   "source": [
    "c = a + b"
   ]
  },
  {
   "cell_type": "code",
   "execution_count": 157,
   "metadata": {
    "colab": {
     "base_uri": "https://localhost:8080/"
    },
    "id": "mTtjRkFkmxfO",
    "outputId": "4b1843b3-31c2-444e-9988-3b278419d0c8"
   },
   "outputs": [
    {
     "data": {
      "text/plain": [
       "(2, 3, 3)"
      ]
     },
     "execution_count": 157,
     "metadata": {},
     "output_type": "execute_result"
    }
   ],
   "source": [
    "c.shape"
   ]
  },
  {
   "cell_type": "code",
   "execution_count": 158,
   "metadata": {
    "colab": {
     "base_uri": "https://localhost:8080/"
    },
    "id": "wKzLMdIPmyR5",
    "outputId": "636fa663-66c6-41b8-ec62-0262fc38a607"
   },
   "outputs": [
    {
     "data": {
      "text/plain": [
       "array([[[ 0,  2,  4],\n",
       "        [ 3,  5,  7],\n",
       "        [ 6,  8, 10]],\n",
       "\n",
       "       [[ 3,  5,  7],\n",
       "        [ 6,  8, 10],\n",
       "        [ 9, 11, 13]]])"
      ]
     },
     "execution_count": 158,
     "metadata": {},
     "output_type": "execute_result"
    }
   ],
   "source": [
    "c"
   ]
  },
  {
   "cell_type": "code",
   "execution_count": 159,
   "metadata": {
    "colab": {
     "base_uri": "https://localhost:8080/"
    },
    "id": "OT51CvTemzdI",
    "outputId": "555aeb1e-361f-4023-87e0-48c2dd779df7"
   },
   "outputs": [
    {
     "data": {
      "text/plain": [
       "array([[[0, 1, 2],\n",
       "        [3, 4, 5],\n",
       "        [6, 7, 8]]])"
      ]
     },
     "execution_count": 159,
     "metadata": {},
     "output_type": "execute_result"
    }
   ],
   "source": [
    "b.reshape((1, 3, 3))"
   ]
  },
  {
   "cell_type": "code",
   "execution_count": 160,
   "metadata": {
    "colab": {
     "base_uri": "https://localhost:8080/"
    },
    "id": "DF73KKNqm4Ap",
    "outputId": "cf3dde9a-0b68-4787-b305-e4b1437e666b"
   },
   "outputs": [
    {
     "data": {
      "text/plain": [
       "array([[0, 1, 2],\n",
       "       [3, 4, 5],\n",
       "       [6, 7, 8]])"
      ]
     },
     "execution_count": 160,
     "metadata": {},
     "output_type": "execute_result"
    }
   ],
   "source": [
    "a = np.arange(9).reshape(3, 3)\n",
    "a"
   ]
  },
  {
   "cell_type": "code",
   "execution_count": 161,
   "metadata": {
    "id": "hBflnuFgnOgt"
   },
   "outputs": [],
   "source": [
    "b = np.array([10, 100, 1000])"
   ]
  },
  {
   "cell_type": "code",
   "execution_count": 162,
   "metadata": {
    "colab": {
     "base_uri": "https://localhost:8080/"
    },
    "id": "5CajfpQJnTVB",
    "outputId": "6d84d069-d8d6-4a15-c2c7-16ee27b21446"
   },
   "outputs": [
    {
     "data": {
      "text/plain": [
       "(3, 3)"
      ]
     },
     "execution_count": 162,
     "metadata": {},
     "output_type": "execute_result"
    }
   ],
   "source": [
    "a.shape"
   ]
  },
  {
   "cell_type": "code",
   "execution_count": 163,
   "metadata": {
    "colab": {
     "base_uri": "https://localhost:8080/"
    },
    "id": "tA7aPeuBnU-e",
    "outputId": "f95dcb87-f5d6-4c0d-e092-56b2bd69adad"
   },
   "outputs": [
    {
     "data": {
      "text/plain": [
       "(3,)"
      ]
     },
     "execution_count": 163,
     "metadata": {},
     "output_type": "execute_result"
    }
   ],
   "source": [
    "b.shape"
   ]
  },
  {
   "cell_type": "code",
   "execution_count": 164,
   "metadata": {
    "colab": {
     "base_uri": "https://localhost:8080/"
    },
    "id": "a5Xp-N_bnVyF",
    "outputId": "3fcd4609-1ce1-4a13-fe70-5192e9b1a460"
   },
   "outputs": [
    {
     "data": {
      "text/plain": [
       "array([[  10,  101, 1002],\n",
       "       [  13,  104, 1005],\n",
       "       [  16,  107, 1008]])"
      ]
     },
     "execution_count": 164,
     "metadata": {},
     "output_type": "execute_result"
    }
   ],
   "source": [
    "a + b"
   ]
  },
  {
   "cell_type": "code",
   "execution_count": 165,
   "metadata": {
    "colab": {
     "base_uri": "https://localhost:8080/"
    },
    "id": "JLjjhhqCnXfr",
    "outputId": "30390799-b482-4655-cdd0-330e3ebfe5e7"
   },
   "outputs": [
    {
     "data": {
      "text/plain": [
       "array([[   0,  100, 2000],\n",
       "       [  30,  400, 5000],\n",
       "       [  60,  700, 8000]])"
      ]
     },
     "execution_count": 165,
     "metadata": {},
     "output_type": "execute_result"
    }
   ],
   "source": [
    "a * b"
   ]
  },
  {
   "cell_type": "code",
   "execution_count": 166,
   "metadata": {
    "colab": {
     "base_uri": "https://localhost:8080/"
    },
    "id": "R-z6CEx_nfJZ",
    "outputId": "c2a91710-3567-42e0-af02-780763ba4d81"
   },
   "outputs": [
    {
     "data": {
      "text/plain": [
       "array([2100, 5430, 8760])"
      ]
     },
     "execution_count": 166,
     "metadata": {},
     "output_type": "execute_result"
    }
   ],
   "source": [
    "a @ b"
   ]
  },
  {
   "cell_type": "code",
   "execution_count": 167,
   "metadata": {
    "colab": {
     "base_uri": "https://localhost:8080/"
    },
    "id": "SilIKmH0nkUA",
    "outputId": "f6f56909-41ab-4eda-9e48-ebcba18e549e"
   },
   "outputs": [
    {
     "data": {
      "text/plain": [
       "array([  10,  100, 1000])"
      ]
     },
     "execution_count": 167,
     "metadata": {},
     "output_type": "execute_result"
    }
   ],
   "source": [
    "b"
   ]
  },
  {
   "cell_type": "code",
   "execution_count": 168,
   "metadata": {
    "id": "4X0wBlQNntR_"
   },
   "outputs": [],
   "source": [
    "d = b.reshape((3, 1))"
   ]
  },
  {
   "cell_type": "code",
   "execution_count": 169,
   "metadata": {
    "colab": {
     "base_uri": "https://localhost:8080/"
    },
    "id": "yC1Zb1Uonwpz",
    "outputId": "602052a6-219b-43a3-c94d-b5f68ce9f446"
   },
   "outputs": [
    {
     "data": {
      "text/plain": [
       "array([[  10],\n",
       "       [ 100],\n",
       "       [1000]])"
      ]
     },
     "execution_count": 169,
     "metadata": {},
     "output_type": "execute_result"
    }
   ],
   "source": [
    "d"
   ]
  },
  {
   "cell_type": "code",
   "execution_count": 170,
   "metadata": {
    "colab": {
     "base_uri": "https://localhost:8080/"
    },
    "id": "B5U06ttonxFM",
    "outputId": "c3b309bc-bbd5-4721-8743-8514d0d2627c"
   },
   "outputs": [
    {
     "data": {
      "text/plain": [
       "array([[    100,    1000,   10000],\n",
       "       [   1000,   10000,  100000],\n",
       "       [  10000,  100000, 1000000]])"
      ]
     },
     "execution_count": 170,
     "metadata": {},
     "output_type": "execute_result"
    }
   ],
   "source": [
    "b * d"
   ]
  },
  {
   "cell_type": "code",
   "execution_count": 171,
   "metadata": {
    "colab": {
     "base_uri": "https://localhost:8080/"
    },
    "id": "1NFIvef5n1Xd",
    "outputId": "f91a7dec-d2c1-4658-b18d-5152d8a0be0c"
   },
   "outputs": [
    {
     "data": {
      "text/plain": [
       "array([  10,  100, 1000])"
      ]
     },
     "execution_count": 171,
     "metadata": {},
     "output_type": "execute_result"
    }
   ],
   "source": [
    "b"
   ]
  },
  {
   "cell_type": "code",
   "execution_count": 172,
   "metadata": {
    "colab": {
     "base_uri": "https://localhost:8080/"
    },
    "id": "LwwnCY6Sn6eR",
    "outputId": "e747bb94-c43e-4214-ad1a-f69a0c0a0232"
   },
   "outputs": [
    {
     "data": {
      "text/plain": [
       "array([[    100,    1000,   10000],\n",
       "       [   1000,   10000,  100000],\n",
       "       [  10000,  100000, 1000000]])"
      ]
     },
     "execution_count": 172,
     "metadata": {},
     "output_type": "execute_result"
    }
   ],
   "source": [
    "b.reshape((3, 1)) * b"
   ]
  },
  {
   "cell_type": "code",
   "execution_count": 173,
   "metadata": {
    "id": "8aHqlSNXn9or"
   },
   "outputs": [],
   "source": [
    "#M[i, j] = b[i] * b[j]"
   ]
  },
  {
   "cell_type": "code",
   "execution_count": 174,
   "metadata": {
    "id": "zevffEvuoNcQ"
   },
   "outputs": [],
   "source": [
    "# (3, 1) * (3,)\n",
    "# (3, 1) * (1, 3)\n",
    "# d = ( b1\n",
    "#       b2\n",
    "#       b3\n",
    "#)"
   ]
  },
  {
   "cell_type": "code",
   "execution_count": 175,
   "metadata": {
    "id": "i_dkEl_noTf7"
   },
   "outputs": [],
   "source": [
    "# d =\n",
    "#  ( b1     b1    b1\n",
    "#    b2     b2    b2\n",
    "#    b3     b3    b3\n",
    "#   )"
   ]
  },
  {
   "cell_type": "code",
   "execution_count": 176,
   "metadata": {
    "id": "MsqNn5Xboqa1"
   },
   "outputs": [],
   "source": [
    "# (3, 3) * (1, 3)\n",
    "# b = (b1     b2    b3)"
   ]
  },
  {
   "cell_type": "code",
   "execution_count": 177,
   "metadata": {
    "id": "vwmEQ--joz5d"
   },
   "outputs": [],
   "source": [
    " # b =\n",
    " #    (b1     b2    b3)\n",
    " #    (b1     b2    b3)\n",
    " #    (b1     b2    b3)"
   ]
  },
  {
   "cell_type": "code",
   "execution_count": 178,
   "metadata": {
    "id": "sSsFyHwNo8nk"
   },
   "outputs": [],
   "source": [
    "# (3, 3) * (3, 3)\n",
    "\n",
    "# M[i, j] = d[i, j] * b[i, j] = bi * bj"
   ]
  },
  {
   "cell_type": "code",
   "execution_count": 179,
   "metadata": {
    "id": "U98JeMlHpOho"
   },
   "outputs": [],
   "source": [
    "def build_lagrangian_basis(q, e):\n",
    "  n_q_points = q.shape[0]\n",
    "  n_e_points = e.shape[0]\n",
    "\n",
    "  # basis[i, j] is the value of l[j] on the point e[i] where\n",
    "  # l[j] is the lagrange polynomial that is 1 on q[j] and 0\n",
    "  # on q[k] for k != j\n",
    "  basis = np.ones((n_e_points, n_q_points), dtype=np.float64)\n",
    "\n",
    "  for i in range(n_e_points):\n",
    "    for j in range(n_q_points):\n",
    "      for k in range(n_q_points):\n",
    "        if k == j:\n",
    "          continue\n",
    "        basis[i, j] *= (e[i] - q[k]) / (q[j] - q[k])\n",
    "  \n",
    "  return basis"
   ]
  },
  {
   "cell_type": "code",
   "execution_count": 180,
   "metadata": {
    "colab": {
     "base_uri": "https://localhost:8080/",
     "height": 338
    },
    "id": "Rdo9Bmq7rxEW",
    "outputId": "62d39572-a7fb-4045-97e3-62e9c38f1d46"
   },
   "outputs": [
    {
     "data": {
      "text/plain": [
       "[<matplotlib.lines.Line2D at 0x7ff82f3bba30>,\n",
       " <matplotlib.lines.Line2D at 0x7ff82f3bba90>,\n",
       " <matplotlib.lines.Line2D at 0x7ff82f3bbbb0>,\n",
       " <matplotlib.lines.Line2D at 0x7ff82f3bbcd0>]"
      ]
     },
     "execution_count": 180,
     "metadata": {},
     "output_type": "execute_result"
    },
    {
     "data": {
      "image/png": "[encoded data removed]",
      "text/plain": [
       "<Figure size 432x288 with 1 Axes>"
      ]
     },
     "metadata": {
      "needs_background": "light"
     },
     "output_type": "display_data"
    }
   ],
   "source": [
    "import matplotlib.pyplot as plt\n",
    "\n",
    "e = np.linspace(0, 1, 100)\n",
    "q = np.linspace(0, 1, 4)\n",
    "\n",
    "basis = build_lagrangian_basis(q, e)\n",
    "plt.plot(e, basis)"
   ]
  },
  {
   "cell_type": "code",
   "execution_count": 181,
   "metadata": {
    "id": "vJl0jUyzr-iX"
   },
   "outputs": [],
   "source": [
    "def interpolate(f, q, e):\n",
    "  n_q_points = q.shape[0]\n",
    "  n_e_points = e.shape[0]\n",
    "\n",
    "  basis = build_lagrangian_basis(q, e)\n",
    "\n",
    "  f_e = np.zeros((n_e_points,), dtype=np.float64)\n",
    "\n",
    "  for i in range(n_e_points):\n",
    "    for j in range(n_q_points):\n",
    "      f_e[i] += basis[i, j] * f(q[j])\n",
    "  return f_e"
   ]
  },
  {
   "cell_type": "code",
   "execution_count": 182,
   "metadata": {
    "id": "tc_T8x21sdWU"
   },
   "outputs": [],
   "source": [
    "def f(x):\n",
    "  return np.sin(2 * np.pi * x)"
   ]
  },
  {
   "cell_type": "code",
   "execution_count": 183,
   "metadata": {
    "colab": {
     "base_uri": "https://localhost:8080/",
     "height": 283
    },
    "id": "hU2o-uTsssAv",
    "outputId": "394728c5-436d-4d1a-c9a0-179b8a656bbc"
   },
   "outputs": [
    {
     "data": {
      "text/plain": [
       "[<matplotlib.lines.Line2D at 0x7ff82fbb2670>]"
      ]
     },
     "execution_count": 183,
     "metadata": {},
     "output_type": "execute_result"
    },
    {
     "data": {
      "image/png": "[encoded data removed]",
      "text/plain": [
       "<Figure size 432x288 with 1 Axes>"
      ]
     },
     "metadata": {
      "needs_background": "light"
     },
     "output_type": "display_data"
    }
   ],
   "source": [
    "f_interp = interpolate(f, q, e)\n",
    "plt.plot(e, f_interp)\n",
    "plt.plot(e, f(e), color=\"red\")"
   ]
  },
  {
   "cell_type": "code",
   "execution_count": 184,
   "metadata": {
    "id": "UQPQfWEqsutJ"
   },
   "outputs": [],
   "source": [
    "def build_lagrangian_basis_2d(q_x, q_y, e_x, e_y):\n",
    "  # For a point P_{i, j} of coordinates q_x[i], q_y[j], we want to compute the\n",
    "  # value of the polynomial L_{k, l} on the point P_{i, j}.\n",
    "  # basis[i, j, k, l] is the value of L_{k, l} on the point (e_x[i], e_y[j])\n",
    "  n_q_x_points = q_x.shape[0]\n",
    "  n_q_y_points = q_y.shape[0]\n",
    "  n_e_x_points = e_x.shape[0]\n",
    "  n_e_y_points = e_y.shape[0]\n",
    "\n",
    "  basis_shape = (n_e_x_points, n_e_y_points, n_q_x_points, n_q_y_points)\n",
    "  basis = np.empty(basis_shape, dtype=np.float64)\n",
    "\n",
    "  b1 = build_lagrangian_basis(q_x, e_x)\n",
    "  b2 = build_lagrangian_basis(q_y, e_y)\n",
    "\n",
    "  for i in range(n_e_x_points):\n",
    "    for j in range(n_e_y_points):\n",
    "      for k in range(n_q_x_points):\n",
    "        for l in range(n_q_y_points):\n",
    "          basis[i, j, k , l] = b1[i, k] * b2[j, l]\n",
    "  \n",
    "  return basis\n",
    "\n"
   ]
  },
  {
   "cell_type": "code",
   "execution_count": 185,
   "metadata": {
    "id": "xbbnWT0qvD6W"
   },
   "outputs": [],
   "source": [
    "q_x = np.linspace(0, 1, 10)\n",
    "q_y = np.linspace(0, 1, 10)\n",
    "e_x = np.linspace(0, 1, 25)\n",
    "e_y = np.linspace(0, 1, 27)\n",
    "\n",
    "# build_lagrangian_basis_2d(q_x, q_y, e_x, e_y)"
   ]
  },
  {
   "cell_type": "code",
   "execution_count": 186,
   "metadata": {
    "id": "57vKDZlyvcaG"
   },
   "outputs": [],
   "source": [
    "def interpolate_2d(f, q_x, q_y, e_x, e_y):\n",
    "  n_q_x_points = q_x.shape[0]\n",
    "  n_q_y_points = q_y.shape[0]\n",
    "  n_e_x_points = e_x.shape[0]\n",
    "  n_e_y_points = e_y.shape[0]\n",
    "\n",
    "  f_e = np.zeros((n_e_x_points, n_e_y_points), dtype=np.float64)\n",
    "\n",
    "  basis = build_lagrangian_basis_2d(q_x, q_y, e_x, e_y)\n",
    "\n",
    "  for i in range(n_e_x_points):\n",
    "    for j in range(n_e_y_points):\n",
    "      for k in range(n_q_x_points):\n",
    "        for l in range(n_q_y_points):\n",
    "          f_e[i, j] += basis[i, j, k, l] * f(q_x[k], q_y[l])\n",
    "  return f_e\n"
   ]
  },
  {
   "cell_type": "code",
   "execution_count": 187,
   "metadata": {
    "id": "1zU1MFxawXBn"
   },
   "outputs": [],
   "source": [
    "def f(x, y):\n",
    "  return np.sin(2 * np.pi * x) + y * y"
   ]
  },
  {
   "cell_type": "code",
   "execution_count": 188,
   "metadata": {
    "id": "ip9zhHq9wgzm"
   },
   "outputs": [],
   "source": [
    "f_interpolated = interpolate_2d(f, q_x, q_y, e_x, e_y)"
   ]
  },
  {
   "cell_type": "code",
   "execution_count": 189,
   "metadata": {
    "id": "iYLV2Cs6wmG_"
   },
   "outputs": [],
   "source": [
    "def evaluate_f(e_x, e_y):\n",
    "  n_e_x_points = e_x.shape[0]\n",
    "  n_e_y_points = e_y.shape[0]\n",
    "  f_e = np.empty((n_e_x_points, n_e_y_points), dtype=np.float64)\n",
    "\n",
    "  for i in range(n_e_x_points):\n",
    "    for j in range(n_e_y_points):\n",
    "      f_e[i, j] = f(e_x[i], e_y[j])\n",
    "  return f_e"
   ]
  },
  {
   "cell_type": "code",
   "execution_count": 190,
   "metadata": {
    "id": "ewWSpS3wxQxt"
   },
   "outputs": [],
   "source": [
    "f_evaluated = evaluate_f(e_x, e_y)"
   ]
  },
  {
   "cell_type": "code",
   "execution_count": 191,
   "metadata": {
    "colab": {
     "base_uri": "https://localhost:8080/"
    },
    "id": "nSmRplgnxURW",
    "outputId": "db8641cb-10e9-4ea2-8eab-a628f53b37aa"
   },
   "outputs": [
    {
     "data": {
      "text/plain": [
       "6.787240547706519e-05"
      ]
     },
     "execution_count": 191,
     "metadata": {},
     "output_type": "execute_result"
    }
   ],
   "source": [
    "np.max(np.abs(f_interpolated - f_evaluated))"
   ]
  },
  {
   "cell_type": "code",
   "execution_count": null,
   "metadata": {
    "colab": {
     "base_uri": "https://localhost:8080/",
     "height": 362
    },
    "id": "LYejuG5GxdFV",
    "outputId": "8bbb55f9-73f0-42db-d5dc-1ca40f865dd8"
   },
   "outputs": [],
   "source": [
    "q_x = np.linspace(0, 1, 20)\n",
    "q_y = np.linspace(0, 1, 20)\n",
    "e_x = np.linspace(0, 1, 1025)\n",
    "e_y = np.linspace(0, 1, 1025)\n",
    "\n",
    "interpolate_2d(f, q_x, q_y, e_x, e_y)"
   ]
  },
  {
   "cell_type": "code",
   "execution_count": null,
   "metadata": {
    "colab": {
     "base_uri": "https://localhost:8080/"
    },
    "id": "t9mMAwb8zMHg",
    "outputId": "b1fa0f88-9bc4-430a-e134-4dfa1e4c8f4a"
   },
   "outputs": [],
   "source": [
    "q_x = np.linspace(0, 1, 10)\n",
    "q_y = np.linspace(0, 1, 10)\n",
    "e_x = np.linspace(0, 1, 64)\n",
    "e_y = np.linspace(0, 1, 64)\n",
    "\n",
    "%timeit interpolate_2d(f, q_x, q_y, e_x, e_y)"
   ]
  },
  {
   "cell_type": "code",
   "execution_count": null,
   "metadata": {
    "colab": {
     "base_uri": "https://localhost:8080/"
    },
    "id": "UjVcR7uOzVYo",
    "outputId": "a7f82585-a2b5-4785-d45d-9c0749389db0"
   },
   "outputs": [],
   "source": [
    "q_x = np.linspace(0, 1, 10)\n",
    "q_y = np.linspace(0, 1, 10)\n",
    "e_x = np.linspace(0, 1, 64)\n",
    "e_y = np.linspace(0, 1, 128)\n",
    "\n",
    "%timeit interpolate_2d(f, q_x, q_y, e_x, e_y)"
   ]
  },
  {
   "cell_type": "code",
   "execution_count": null,
   "metadata": {
    "colab": {
     "base_uri": "https://localhost:8080/"
    },
    "id": "GjfcXSDOzfg9",
    "outputId": "fb6928f9-4b2f-4f39-9c99-a41690171bb9"
   },
   "outputs": [],
   "source": [
    "q_x = np.linspace(0, 1, 10)\n",
    "q_y = np.linspace(0, 1, 10)\n",
    "e_x = np.linspace(0, 1, 64)\n",
    "e_y = np.linspace(0, 1, 64)\n",
    "\n",
    "%timeit interpolate_2d(f, q_x, q_y, e_x, e_y)"
   ]
  },
  {
   "cell_type": "code",
   "execution_count": null,
   "metadata": {
    "colab": {
     "base_uri": "https://localhost:8080/"
    },
    "id": "sznSDjbqzoxK",
    "outputId": "f14c0254-edf6-493f-ed65-9b858e3b1e5f"
   },
   "outputs": [],
   "source": [
    "1.5 * 2 * 2 * 64 * 64"
   ]
  },
  {
   "cell_type": "code",
   "execution_count": null,
   "metadata": {
    "colab": {
     "base_uri": "https://localhost:8080/"
    },
    "id": "qL8yn6F0z9ZI",
    "outputId": "6d9c2cb8-fcca-4178-cd15-6443e9955f3c"
   },
   "outputs": [],
   "source": [
    "1.5 * 2 * 2 * 64 * 64 / 60 / 60"
   ]
  },
  {
   "cell_type": "code",
   "execution_count": null,
   "metadata": {
    "colab": {
     "base_uri": "https://localhost:8080/"
    },
    "id": "Q9QtuQb3z_9l",
    "outputId": "75c733dd-a8e2-4335-e263-004371ed2e8a"
   },
   "outputs": [],
   "source": [
    "%prun interpolate_2d(f, q_x, q_y, e_x, e_y)"
   ]
  },
  {
   "cell_type": "code",
   "execution_count": null,
   "metadata": {
    "id": "mtgwZw-L0MEo"
   },
   "outputs": [],
   "source": [
    "def interpolate_2d(f, q_x, q_y, e_x, e_y):\n",
    "  n_q_x_points = q_x.shape[0]\n",
    "  n_q_y_points = q_y.shape[0]\n",
    "  n_e_x_points = e_x.shape[0]\n",
    "  n_e_y_points = e_y.shape[0]\n",
    "\n",
    "  f_e = np.zeros((n_e_x_points, n_e_y_points), dtype=np.float64)\n",
    "\n",
    "  basis = build_lagrangian_basis_2d(q_x, q_y, e_x, e_y)\n",
    "\n",
    "  f_q = evaluate_f(q_x, q_y)\n",
    "\n",
    "  for i in range(n_e_x_points):\n",
    "    for j in range(n_e_y_points):\n",
    "      for k in range(n_q_x_points):\n",
    "        for l in range(n_q_y_points):\n",
    "          f_e[i, j] += basis[i, j, k, l] * f_q[k, l]\n",
    "  return f_e"
   ]
  },
  {
   "cell_type": "code",
   "execution_count": null,
   "metadata": {
    "colab": {
     "base_uri": "https://localhost:8080/"
    },
    "id": "DdFxO3HV1AI0",
    "outputId": "fc2c5c5e-fb25-4eb7-b035-aa2fe96fc688"
   },
   "outputs": [],
   "source": [
    "%prun interpolate_2d(f, q_x, q_y, e_x, e_y)"
   ]
  },
  {
   "cell_type": "code",
   "execution_count": null,
   "metadata": {
    "id": "dVoh1NCp1CA2"
   },
   "outputs": [],
   "source": [
    "def interpolate_2d(f, q_x, q_y, e_x, e_y):\n",
    "  n_q_x_points = q_x.shape[0]\n",
    "  n_q_y_points = q_y.shape[0]\n",
    "  n_e_x_points = e_x.shape[0]\n",
    "  n_e_y_points = e_y.shape[0]\n",
    "\n",
    "  f_e = np.zeros((n_e_x_points, n_e_y_points), dtype=np.float64)\n",
    "\n",
    "  basis = build_lagrangian_basis_2d(q_x, q_y, e_x, e_y)\n",
    "\n",
    "  f_q = evaluate_f(q_x, q_y)\n",
    "\n",
    "  for k in range(n_q_x_points):\n",
    "    for l in range(n_q_y_points):\n",
    "      f_e[:, :] += basis[:, :, k, l] * f_q[k, l]\n",
    "  return f_e"
   ]
  },
  {
   "cell_type": "code",
   "execution_count": null,
   "metadata": {
    "colab": {
     "base_uri": "https://localhost:8080/"
    },
    "id": "SHU6pBfn1mf8",
    "outputId": "16bf0acb-647d-4d38-a8ec-aa6598472592"
   },
   "outputs": [],
   "source": [
    "%prun interpolate_2d(f, q_x, q_y, e_x, e_y)"
   ]
  },
  {
   "cell_type": "code",
   "execution_count": null,
   "metadata": {
    "id": "3x6QUp721n_U"
   },
   "outputs": [],
   "source": [
    "def build_lagrangian_basis_2d(q_x, q_y, e_x, e_y):\n",
    "  # For a point P_{i, j} of coordinates q_x[i], q_y[j], we want to compute the\n",
    "  # value of the polynomial L_{k, l} on the point P_{i, j}.\n",
    "  # basis[i, j, k, l] is the value of L_{k, l} on the point (e_x[i], e_y[j])\n",
    "  n_q_x_points = q_x.shape[0]\n",
    "  n_q_y_points = q_y.shape[0]\n",
    "  n_e_x_points = e_x.shape[0]\n",
    "  n_e_y_points = e_y.shape[0]\n",
    "\n",
    "  b1 = build_lagrangian_basis(q_x, e_x)\n",
    "  b2 = build_lagrangian_basis(q_y, e_y)\n",
    "\n",
    "  b1 = b1.reshape((n_e_x_points, 1, n_q_x_points, 1))\n",
    "  b2 = b2.reshape((1, n_e_y_points, 1, n_q_y_points))\n",
    "\n",
    "  basis = b1 * b2\n",
    "  \n",
    "  return basis"
   ]
  },
  {
   "cell_type": "code",
   "execution_count": null,
   "metadata": {
    "colab": {
     "base_uri": "https://localhost:8080/"
    },
    "id": "HGeisH4W2Fwu",
    "outputId": "ca17dc29-94f2-48ed-c5af-41d512b408f0"
   },
   "outputs": [],
   "source": [
    "%prun interpolate_2d(f, q_x, q_y, e_x, e_y)"
   ]
  },
  {
   "cell_type": "code",
   "execution_count": null,
   "metadata": {
    "colab": {
     "base_uri": "https://localhost:8080/"
    },
    "id": "UkG3aYpp2TdI",
    "outputId": "47e459e3-21f7-40cd-e303-08828eb50b3e"
   },
   "outputs": [],
   "source": [
    "f_interpolated = interpolate_2d(f, q_x, q_y, e_x, e_y)\n",
    "f_evaluated = evaluate_f(e_x, e_y)\n",
    "np.max(np.abs(f_interpolated - f_evaluated))"
   ]
  },
  {
   "cell_type": "code",
   "execution_count": null,
   "metadata": {
    "colab": {
     "base_uri": "https://localhost:8080/"
    },
    "id": "PcT76Z7d21eM",
    "outputId": "e1562b19-16b8-4fd6-fa54-c61cd73c8c0e"
   },
   "outputs": [],
   "source": [
    "q_x = np.linspace(0, 1, 10)\n",
    "q_y = np.linspace(0, 1, 10)\n",
    "e_x = np.linspace(0, 1, 1024)\n",
    "e_y = np.linspace(0, 1, 1024)\n",
    "\n",
    "%timeit interpolate_2d(f, q_x, q_y, e_x, e_y)"
   ]
  },
  {
   "cell_type": "code",
   "execution_count": null,
   "metadata": {
    "colab": {
     "base_uri": "https://localhost:8080/"
    },
    "id": "musBQ4a62_Pz",
    "outputId": "57b8134e-3091-4bcb-aee7-9461fc4e4e06"
   },
   "outputs": [],
   "source": [
    "%prun interpolate_2d(f, q_x, q_y, e_x, e_y)"
   ]
  },
  {
   "cell_type": "code",
   "execution_count": null,
   "metadata": {
    "id": "K9M2DNJ-3N4K"
   },
   "outputs": [],
   "source": [
    "def interpolate_2d(f, q_x, q_y, e_x, e_y):\n",
    "  n_q_x_points = q_x.shape[0]\n",
    "  n_q_y_points = q_y.shape[0]\n",
    "  n_e_x_points = e_x.shape[0]\n",
    "  n_e_y_points = e_y.shape[0]\n",
    "\n",
    "  f_e = np.zeros((n_e_x_points, n_e_y_points), dtype=np.float64)\n",
    "\n",
    "  basis = build_lagrangian_basis_2d(q_x, q_y, e_x, e_y)\n",
    "\n",
    "  f_q = evaluate_f(q_x, q_y)\n",
    "\n",
    "  basis_reshaped = basis.reshape(\n",
    "      (n_e_x_points* n_e_y_points, n_q_x_points * n_q_y_points)\n",
    "      )\n",
    "\n",
    "  f_q_reshaped = f_q.reshape((n_q_x_points * n_q_y_points,))\n",
    "\n",
    "  f_e = basis_reshaped @ f_q_reshaped\n",
    "  return f_e.reshape((n_e_x_points, n_e_y_points))"
   ]
  },
  {
   "cell_type": "code",
   "execution_count": null,
   "metadata": {
    "colab": {
     "base_uri": "https://localhost:8080/"
    },
    "id": "xq4ah92d34FK",
    "outputId": "c9a04cd6-bb72-4d58-95fd-75ee268ab2e0"
   },
   "outputs": [],
   "source": [
    "f_interpolated = interpolate_2d(f, q_x, q_y, e_x, e_y)\n",
    "f_evaluated = evaluate_f(e_x, e_y)\n",
    "np.max(np.abs(f_interpolated - f_evaluated))"
   ]
  },
  {
   "cell_type": "code",
   "execution_count": null,
   "metadata": {
    "colab": {
     "base_uri": "https://localhost:8080/"
    },
    "id": "iQC9gMRW36qg",
    "outputId": "e240170a-17f7-4903-9318-106523859981"
   },
   "outputs": [],
   "source": [
    "%prun interpolate_2d(f, q_x, q_y, e_x, e_y)"
   ]
  },
  {
   "cell_type": "code",
   "execution_count": null,
   "metadata": {
    "colab": {
     "base_uri": "https://localhost:8080/"
    },
    "id": "mqysz9OR4c-f",
    "outputId": "c8b2925c-87ec-4c4e-fe6c-a24ba2bc96e9"
   },
   "outputs": [],
   "source": [
    "q_x = np.linspace(0, 1, 16)\n",
    "q_y = np.linspace(0, 1, 16)\n",
    "e_x = np.linspace(0, 1, 1025)\n",
    "e_y = np.linspace(0, 1, 1025)\n",
    "\n",
    "f_interpolated = interpolate_2d(f, q_x, q_y, e_x, e_y)\n",
    "f_evaluated = evaluate_f(e_x, e_y)\n",
    "np.max(np.abs(f_interpolated - f_evaluated))"
   ]
  },
  {
   "cell_type": "code",
   "execution_count": null,
   "metadata": {
    "id": "NTEb4qoc42cN"
   },
   "outputs": [],
   "source": []
  }
 ],
 "metadata": {
  "colab": {
   "authorship_tag": "ABX9TyO0iua4X2Qd1QYUXWNs7HUN",
   "include_colab_link": true,
   "name": "Untitled0.ipynb",
   "provenance": []
  },
  "kernelspec": {
   "display_name": "Python 3 (ipykernel)",
   "language": "python",
   "name": "python3"
  },
  "language_info": {
   "codemirror_mode": {
    "name": "ipython",
    "version": 3
   },
   "file_extension": ".py",
   "mimetype": "text/x-python",
   "name": "python",
   "nbconvert_exporter": "python",
   "pygments_lexer": "ipython3",
   "version": "3.9.7"
  }
 },
 "nbformat": 4,
 "nbformat_minor": 1
}
